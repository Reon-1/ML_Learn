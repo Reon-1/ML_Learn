{
 "cells": [
  {
   "cell_type": "markdown",
   "id": "ad9f7490-c9a1-4523-95fe-80e2e1226d05",
   "metadata": {},
   "source": [
    "## Practical Example\n",
    "<img src = 'images/panda.png'/>"
   ]
  },
  {
   "cell_type": "code",
   "execution_count": 2,
   "id": "784c01b0-c184-4a78-a2f3-9371e6529a67",
   "metadata": {},
   "outputs": [],
   "source": [
    "import pandas as pd\n",
    "import numpy as np\n",
    "from matplotlib.image import imread"
   ]
  },
  {
   "cell_type": "code",
   "execution_count": 9,
   "id": "6facc82c-09a9-4ccb-bdad-bf7673c057b2",
   "metadata": {},
   "outputs": [
    {
     "name": "stdout",
     "output_type": "stream",
     "text": [
      "<class 'numpy.ndarray'>\n"
     ]
    }
   ],
   "source": [
    "# turn the image into numpy array\n",
    "panda = imread('images/panda.png')\n",
    "print(type(panda))"
   ]
  },
  {
   "cell_type": "code",
   "execution_count": 8,
   "id": "4cb2043c-8ee5-4bc5-af5a-9178ef6bd889",
   "metadata": {},
   "outputs": [
    {
     "name": "stdout",
     "output_type": "stream",
     "text": [
      "<class 'numpy.ndarray'>\n"
     ]
    }
   ],
   "source": [
    "panda_np = np.array(panda)\n",
    "print(type(panda_np))"
   ]
  },
  {
   "cell_type": "code",
   "execution_count": null,
   "id": "432e235f-b381-4fc4-a151-f1f2210029f2",
   "metadata": {},
   "outputs": [],
   "source": []
  }
 ],
 "metadata": {
  "kernelspec": {
   "display_name": "Python 3 (ipykernel)",
   "language": "python",
   "name": "python3"
  },
  "language_info": {
   "codemirror_mode": {
    "name": "ipython",
    "version": 3
   },
   "file_extension": ".py",
   "mimetype": "text/x-python",
   "name": "python",
   "nbconvert_exporter": "python",
   "pygments_lexer": "ipython3",
   "version": "3.11.7"
  }
 },
 "nbformat": 4,
 "nbformat_minor": 5
}
