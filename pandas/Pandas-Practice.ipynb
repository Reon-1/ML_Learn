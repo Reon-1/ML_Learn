{
 "cells": [
  {
   "cell_type": "markdown",
   "id": "1f3c9731-2479-4c9c-8304-91f083c5ca66",
   "metadata": {},
   "source": [
    "## Pandas Data Series [40 exercises with solution]\n"
   ]
  },
  {
   "cell_type": "code",
   "execution_count": 4,
   "id": "b79b31ae-a520-45ee-8997-03d5363c7311",
   "metadata": {},
   "outputs": [],
   "source": [
    "import pandas as pd"
   ]
  },
  {
   "cell_type": "markdown",
   "id": "d76c9974-115f-4d9f-83a1-5a535b98f51c",
   "metadata": {},
   "source": [
    "# 1) Write a Pandas program to create and display a one-dimensional array-like object containing an array of data using Pandas module."
   ]
  },
  {
   "cell_type": "code",
   "execution_count": 8,
   "id": "612a4bc7-cb0b-4c62-aa9c-8eebd34f2e04",
   "metadata": {},
   "outputs": [
    {
     "data": {
      "text/plain": [
       "0    Kathmandu\n",
       "1    Bhaktapur\n",
       "2     Lalitpur\n",
       "3       Dharan\n",
       "4        Dolpa\n",
       "dtype: object"
      ]
     },
     "execution_count": 8,
     "metadata": {},
     "output_type": "execute_result"
    }
   ],
   "source": [
    "nepal_city = pd.Series(['Kathmandu','Bhaktapur','Lalitpur','Dharan','Dolpa'])\n",
    "nepal_city"
   ]
  },
  {
   "cell_type": "markdown",
   "id": "de376134-1b19-4ecc-b0f4-d497517b0f85",
   "metadata": {},
   "source": [
    "## 2. Write a Pandas program to convert a Panda module Series to Python list and it's type."
   ]
  },
  {
   "cell_type": "code",
   "execution_count": 21,
   "id": "1d368836-2ff5-4fa7-9c10-845eacb7d3ef",
   "metadata": {},
   "outputs": [
    {
     "data": {
      "text/plain": [
       "list"
      ]
     },
     "execution_count": 21,
     "metadata": {},
     "output_type": "execute_result"
    }
   ],
   "source": [
    "nepal_city_list = nepal_city.to_list()\n",
    "type(nepal_city_list)"
   ]
  },
  {
   "cell_type": "markdown",
   "id": "3d223471-445e-4219-aa22-3bb342c31b6a",
   "metadata": {},
   "source": [
    "## 3. Write a Pandas program to add, subtract, multiple and divide two Pandas Series."
   ]
  },
  {
   "cell_type": "code",
   "execution_count": 25,
   "id": "1407f870-f593-4bd8-ac69-c52308ba7e31",
   "metadata": {},
   "outputs": [
    {
     "name": "stdout",
     "output_type": "stream",
     "text": [
      "Addition:\n",
      "0    16\n",
      "1    52\n",
      "2    25\n",
      "3    98\n",
      "4    10\n",
      "dtype: int32\n",
      "\n",
      "Subtraction:\n",
      "0    -6\n",
      "1   -32\n",
      "2    19\n",
      "3   -10\n",
      "4    -8\n",
      "dtype: int32\n",
      "\n",
      "Multiplication:\n",
      "0      55\n",
      "1     420\n",
      "2      66\n",
      "3    2376\n",
      "4       9\n",
      "dtype: int32\n",
      "\n",
      "Division:\n",
      "0    0.454545\n",
      "1    0.238095\n",
      "2    7.333333\n",
      "3    0.814815\n",
      "4    0.111111\n",
      "dtype: float64\n"
     ]
    }
   ],
   "source": [
    "value_1 = pd.Series([5,10,22,44,1]).astype(int)\n",
    "value_2 = pd.Series([11,42,3,54,9]).astype(int)\n",
    "\n",
    "add = value_1 + value_2\n",
    "sub = value_1 - value_2\n",
    "multiply = value_1 * value_2\n",
    "divide = value_1 / value_2\n",
    "\n",
    "print(\"Addition:\")\n",
    "print(add)\n",
    "\n",
    "print(\"\\nSubtraction:\")\n",
    "print(sub)\n",
    "\n",
    "print(\"\\nMultiplication:\")\n",
    "print(multiply)\n",
    "\n",
    "print(\"\\nDivision:\")\n",
    "print(divide)"
   ]
  },
  {
   "cell_type": "markdown",
   "id": "69d82169-43f1-4ee4-b938-306dc2b30f0c",
   "metadata": {},
   "source": [
    "## 4. Write a Pandas program to compare the elements of the two Pandas Series. Sample Series: [2, 4, 6, 8, 10], [1, 3, 5, 7, 10]"
   ]
  },
  {
   "cell_type": "code",
   "execution_count": 40,
   "id": "7190ae0f-7f3e-477a-91d9-e9b03cbff920",
   "metadata": {},
   "outputs": [
    {
     "data": {
      "text/plain": [
       "0    False\n",
       "1    False\n",
       "2    False\n",
       "3    False\n",
       "4     True\n",
       "dtype: bool"
      ]
     },
     "execution_count": 40,
     "metadata": {},
     "output_type": "execute_result"
    }
   ],
   "source": [
    "sample_1 = pd.Series([2, 4, 6, 8, 10]).astype(int)\n",
    "sample_2 = pd.Series([1, 3, 5, 7, 10]).astype(int)\n",
    "compare_sample = sample_1 == sample_2\n",
    "compare_sample"
   ]
  },
  {
   "cell_type": "markdown",
   "id": "6ad0f370-0ff5-4393-9a9e-8a8319e0ba8b",
   "metadata": {},
   "source": [
    "## 5. Write a Pandas program to convert a dictionary to a Pandas series."
   ]
  },
  {
   "cell_type": "code",
   "execution_count": 53,
   "id": "7d0a9e97-e861-4b4c-a1a2-7b1c0602981c",
   "metadata": {},
   "outputs": [
    {
     "name": "stdout",
     "output_type": "stream",
     "text": [
      "Dictionary Original: \n",
      "{'a': 100, 'b': 200, 'c': 300, 'd': 400, 'e': 800}\n",
      "Converted Series\n",
      "a    100\n",
      "b    200\n",
      "c    300\n",
      "d    400\n",
      "e    800\n",
      "dtype: int64\n"
     ]
    }
   ],
   "source": [
    "original_numbers = {'a': 100, 'b': 200, 'c': 300, 'd': 400, 'e': 800}\n",
    "print(f'Dictionary Original: \\n{original_numbers}')\n",
    "series = pd.Series(original_numbers)\n",
    "print('Converted Series')\n",
    "print(series)"
   ]
  },
  {
   "cell_type": "markdown",
   "id": "9cabd2a8-27ac-4855-bea5-d2ee2826a4e2",
   "metadata": {},
   "source": [
    "## 6. Write a Pandas program to convert a NumPy array to a Pandas series."
   ]
  },
  {
   "cell_type": "code",
   "execution_count": 54,
   "id": "9d4ed9f3-e50e-481d-a635-bb06837ab840",
   "metadata": {},
   "outputs": [],
   "source": [
    "import numpy as np"
   ]
  },
  {
   "cell_type": "code",
   "execution_count": 58,
   "id": "051a4711-879b-4fdd-9f7d-cae283124951",
   "metadata": {},
   "outputs": [
    {
     "name": "stdout",
     "output_type": "stream",
     "text": [
      "Numpy Array: \n",
      "[21 62 13 41 55]\n",
      "Converted to panda series: \n",
      "0    21\n",
      "1    62\n",
      "2    13\n",
      "3    41\n",
      "4    55\n",
      "dtype: int32\n"
     ]
    }
   ],
   "source": [
    "np_array = np.array([21,62,13,41,55])\n",
    "print(f'Numpy Array: \\n{np_array}')\n",
    "s = pd.Series(np_array)\n",
    "print(f'Converted to panda series: \\n{s}')"
   ]
  },
  {
   "cell_type": "markdown",
   "id": "170ecd03-ccda-48d7-90a2-f968a40cce2d",
   "metadata": {},
   "source": [
    "## 7. Write a Pandas program to change the data type of given a column or a Series."
   ]
  },
  {
   "cell_type": "code",
   "execution_count": 62,
   "id": "859faba2-d75f-477c-9123-07d39fc3a5d5",
   "metadata": {},
   "outputs": [
    {
     "name": "stdout",
     "output_type": "stream",
     "text": [
      "Original Data Series: \n",
      "0       100\n",
      "1       200\n",
      "2    python\n",
      "3    300.12\n",
      "4       400\n",
      "dtype: object\n"
     ]
    }
   ],
   "source": [
    "s = pd.Series([100.00,200.00,300.12,400.00])\n",
    "print(f'Original Data Series: \\n{s}')\n",
    "change_dtype = s.astype(int)\n",
    "print(f'Change the data type to numeric: \\n{change_dtype}')"
   ]
  },
  {
   "cell_type": "code",
   "execution_count": null,
   "id": "cff44fb3-332c-4468-9047-4764a1ca70e8",
   "metadata": {},
   "outputs": [],
   "source": []
  }
 ],
 "metadata": {
  "kernelspec": {
   "display_name": "Python 3 (ipykernel)",
   "language": "python",
   "name": "python3"
  },
  "language_info": {
   "codemirror_mode": {
    "name": "ipython",
    "version": 3
   },
   "file_extension": ".py",
   "mimetype": "text/x-python",
   "name": "python",
   "nbconvert_exporter": "python",
   "pygments_lexer": "ipython3",
   "version": "3.11.7"
  }
 },
 "nbformat": 4,
 "nbformat_minor": 5
}
